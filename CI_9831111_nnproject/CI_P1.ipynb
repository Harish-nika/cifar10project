{
  "cells": [
    {
      "cell_type": "markdown",
      "metadata": {
        "id": "xka5HYvUmX1T"
      },
      "source": [
        "# **1) Read And Prepare CIFAR10 DataSet**"
      ]
    },
    {
      "cell_type": "code",
      "execution_count": null,
      "metadata": {
        "colab": {
          "base_uri": "https://localhost:8080/"
        },
        "id": "yvFk9ps3lhZL",
        "outputId": "8150072b-152f-4e7b-bc54-e7a00faa5d99"
      },
      "outputs": [
        {
          "name": "stdout",
          "output_type": "stream",
          "text": [
            "/usr/local/lib/python3.7/dist-packages/gdown/cli.py:131: FutureWarning: Option `--id` was deprecated in version 4.3.1 and will be removed in 5.0. You don't need to pass it anymore to use a file ID.\n",
            "  category=FutureWarning,\n",
            "Downloading...\n",
            "From: https://drive.google.com/uc?id=1Y1vgzPvMeVcXSxDfOlCVia7wsU7p8M6g\n",
            "To: /content/CIFAR10.tar.gz\n",
            "100% 19.8M/19.8M [00:00<00:00, 246MB/s]\n"
          ]
        }
      ],
      "source": [
        "# get the dataset\n",
        "!gdown --id 1Y1vgzPvMeVcXSxDfOlCVia7wsU7p8M6g -O CIFAR10.tar.gz \n",
        "!tar xzf CIFAR10.tar.gz"
      ]
    },
    {
      "cell_type": "code",
      "execution_count": null,
      "metadata": {
        "id": "RmeuQDt_l1wK"
      },
      "outputs": [],
      "source": [
        "import matplotlib.pyplot as plt\n",
        "import numpy as np\n",
        "import glob\n",
        "import cv2 as cv\n",
        "import random\n",
        "from datetime import datetime\n",
        "\n",
        "# file paths\n",
        "path1 = glob.glob(\"/content/CIFAR10/test/airplane/*.jpg\")\n",
        "path2 = glob.glob(\"/content/CIFAR10/test/automobile/*.jpg\")\n",
        "path3 = glob.glob(\"/content/CIFAR10/test/bird/*.jpg\")\n",
        "path4 = glob.glob(\"/content/CIFAR10/test/cat/*.jpg\")\n",
        "\n",
        "path5 = glob.glob(\"/content/CIFAR10/train/airplane/*.jpg\")\n",
        "path6 = glob.glob(\"/content/CIFAR10/train/automobile/*.jpg\")\n",
        "path7 = glob.glob(\"/content/CIFAR10/train/bird/*.jpg\")\n",
        "path8 = glob.glob(\"/content/CIFAR10/train/cat/*.jpg\")"
      ]
    },
    {
      "cell_type": "code",
      "execution_count": null,
      "metadata": {
        "id": "EjpLmJyCl4ub"
      },
      "outputs": [],
      "source": [
        "# Hyperparametrs\n",
        "number_of_train = 200\n",
        "number_of_epochs = 10\n",
        "batch_size = 16\n",
        "batch_num = 20\n",
        "learning_rate = 0.3"
      ]
    },
    {
      "cell_type": "code",
      "execution_count": null,
      "metadata": {
        "id": "8kpyxSo7l9u7"
      },
      "outputs": [],
      "source": [
        "# functions\n",
        "\n",
        "# read images and make an image array\n",
        "def makeImageList(path):\n",
        "    cv_img = []\n",
        "    for img in path:\n",
        "      n = cv.imread(img)\n",
        "      n = n[:,:, ::-1]\n",
        "      cv_img.append(n)\n",
        "    return cv_img\n",
        "\n",
        "# convert rgb to gray photos\n",
        "def rgb2gray(rgb):\n",
        "    r, g, b = rgb[:, :, :, 0], rgb[:, :, :,1], rgb[:, :, :, 2]\n",
        "    gray = 0.2989 * r + 0.5870 * g + 0.1140 * b\n",
        "    return gray\n",
        "\n",
        "# make the labels for Test data\n",
        "def makeLabelTest():\n",
        "  label=np.zeros(16000, dtype=np.uint8)\n",
        "  label=label.reshape(4000,4)   \n",
        "  for i in range(4000):\n",
        "      if(i<1000):\n",
        "        label[i,0] = 1\n",
        "      elif(i<2000):\n",
        "        label[i,1] = 1\n",
        "      elif(i<3000):\n",
        "        label[i,2] = 1\n",
        "      elif(i<4000):\n",
        "        label[i,3] = 1\n",
        "  return label\n",
        "\n",
        "# make the labels for Train data\n",
        "def makeLabelTrain():\n",
        "  label=np.zeros(80000, dtype=np.uint8)\n",
        "  label=label.reshape(20000,4)   \n",
        "  for i in range(20000):\n",
        "      if(i<5000):\n",
        "        label[i,0] = 1\n",
        "      elif(i<10000):\n",
        "        label[i,1] = 1\n",
        "      elif(i<15000):\n",
        "        label[i,2] = 1\n",
        "      elif(i<20000):\n",
        "        label[i,3] = 1\n",
        "  return label\n",
        "\n",
        "# shuffle matrix\n",
        "def unison_shuffled_copies(a, b):\n",
        "    assert len(a) == len(b)\n",
        "    p = np.random.permutation(len(a))\n",
        "    return a[p], b[p]\n",
        "\n",
        "# sigmoid function\n",
        "def sigmoid(x):\n",
        "    return 1 / (1 + np.exp(-x))"
      ]
    },
    {
      "cell_type": "code",
      "execution_count": null,
      "metadata": {
        "id": "lmTAlGALmKEP"
      },
      "outputs": [],
      "source": [
        "#make label matrix\n",
        "testLabel = makeLabelTest()\n",
        "trainLabel = makeLabelTrain()"
      ]
    },
    {
      "cell_type": "code",
      "execution_count": null,
      "metadata": {
        "id": "zbnOSSWMmOcb"
      },
      "outputs": [],
      "source": [
        "# convert list to arrray\n",
        "classList1 = makeImageList(path1)+makeImageList(path2)+makeImageList(path3)+makeImageList(path4)\n",
        "testData = np.asarray(classList1)\n",
        "\n",
        "classList2 = makeImageList(path5)+makeImageList(path6)+makeImageList(path7)+makeImageList(path8)\n",
        "trainData = np.asarray(classList2)\n",
        "\n",
        "# make all photos gray\n",
        "testData = rgb2gray(testData)\n",
        "trainData = rgb2gray(trainData)\n",
        "\n",
        "# divide by 255 to normalize \n",
        "testData = np.divide(testData,255)\n",
        "trainData = np.divide(trainData,255)\n",
        "\n",
        "# reshape to 1024 nuron\n",
        "testData = testData.reshape(-1,1024)\n",
        "trainData = trainData.reshape(-1,1024)"
      ]
    },
    {
      "cell_type": "code",
      "execution_count": null,
      "metadata": {
        "id": "d1IYhAMVmTtq"
      },
      "outputs": [],
      "source": [
        "# shuffle matrixes\n",
        "testData , testLabel = unison_shuffled_copies(testData, testLabel)\n",
        "trainData , trainLabel = unison_shuffled_copies(trainData, trainLabel)"
      ]
    },
    {
      "cell_type": "code",
      "execution_count": null,
      "metadata": {
        "id": "7RKmNUrMqCo5"
      },
      "outputs": [],
      "source": [
        "# make a set which contains data and labels\n",
        "train_set = []\n",
        "test_set = []\n",
        "for i in range(trainLabel.T.shape[1]):\n",
        "  train_set.append((trainData.T[:, i].reshape(1024, 1), trainLabel.T[:, i].reshape(4, 1)))\n",
        "for i in range(testLabel.T.shape[1]):\n",
        "  test_set.append((testData[i, :].T.reshape(1024, 1), testLabel[i, :].T.reshape(4, 1)))"
      ]
    },
    {
      "cell_type": "markdown",
      "metadata": {
        "id": "qfgYnYWno_Jd"
      },
      "source": [
        "# **2) Feed Forward**"
      ]
    },
    {
      "cell_type": "code",
      "execution_count": null,
      "metadata": {
        "id": "GHm75bbyqwal"
      },
      "outputs": [],
      "source": [
        "# random the weight and bias of layers\n",
        "W1 = np.random.normal(size=(16,1024))\n",
        "W2 = np.random.normal(size=(16, 16))\n",
        "W3 = np.random.normal(size=(4, 16))\n",
        "b1 = np.zeros((16, 1))\n",
        "b2 = np.zeros((16, 1))\n",
        "b3 = np.zeros((4, 1))"
      ]
    },
    {
      "cell_type": "code",
      "execution_count": null,
      "metadata": {
        "colab": {
          "base_uri": "https://localhost:8080/"
        },
        "id": "jSdNOyramcWz",
        "outputId": "2ee3580d-f3a6-4363-ee46-93e8aad85d9f"
      },
      "outputs": [
        {
          "name": "stdout",
          "output_type": "stream",
          "text": [
            "Accuracy:  20.5 %\n"
          ]
        }
      ],
      "source": [
        "counter = 0\n",
        "# find the sigmoid of each node with formula 1/(1+e^(-W+sig last node + bias)\n",
        "for i in range (number_of_train):\n",
        "    a0 = trainData[i].reshape(-1,1)\n",
        "    a1 = sigmoid(W1 @ a0 + b1)\n",
        "    a2 = sigmoid(W2 @ a1 + b2)\n",
        "    a3 = sigmoid(W3 @ a2 + b3)\n",
        "\n",
        "    output = np.argmax(a3)\n",
        "    label = np.argmax(trainLabel[i],axis=0)\n",
        "    if(output == label):counter+=1\n",
        "\n",
        "print('Accuracy: ', counter/number_of_train * 100,\"%\")\n"
      ]
    },
    {
      "cell_type": "markdown",
      "metadata": {
        "id": "dbtOewGiqZ_z"
      },
      "source": [
        "# **3) Back Propagation**"
      ]
    },
    {
      "cell_type": "code",
      "execution_count": null,
      "metadata": {
        "id": "7D74MPgUqrRO"
      },
      "outputs": [],
      "source": [
        "# random the weight and bias of layers\n",
        "W1 = np.random.normal(size=(16,1024))\n",
        "W2 = np.random.normal(size=(16, 16))\n",
        "W3 = np.random.normal(size=(4, 16))\n",
        "b1 = np.zeros((16, 1))\n",
        "b2 = np.zeros((16, 1))\n",
        "b3 = np.zeros((4, 1))\n",
        "\n",
        "total_costs = []"
      ]
    },
    {
      "cell_type": "code",
      "execution_count": null,
      "metadata": {
        "id": "8lwR5q3FJOTx"
      },
      "outputs": [],
      "source": [
        "# get the start time\n",
        "start = datetime.now()\n",
        "\n",
        "for epoch in range(number_of_epochs):\n",
        "    batches = [train_set[x:x+batch_size] for x in range(0, number_of_train, batch_size)]\n",
        "    for batch in batches:\n",
        "        # allocate grad_W matrix for each layer\n",
        "        grad_W1 = np.zeros((16, 1024))\n",
        "        grad_W2 = np.zeros((16, 16))\n",
        "        grad_W3 = np.zeros((4, 16))\n",
        "        # allocate grad_b for each layer\n",
        "        grad_b1 = np.zeros((16, 1))\n",
        "        grad_b2 = np.zeros((16, 1))\n",
        "        grad_b3 = np.zeros((4, 1))\n",
        "        \n",
        "        for image, label in batch:\n",
        "            # compute the output (image is equal to a0)\n",
        "            a1 = sigmoid(W1 @ image + b1)\n",
        "            a2 = sigmoid(W2 @ a1 + b2)\n",
        "            a3 = sigmoid(W3 @ a2 + b3)\n",
        "            \n",
        "            # ---- Last layer\n",
        "            # weight\n",
        "            for j in range(grad_W3.shape[0]):\n",
        "                for k in range(grad_W3.shape[1]):\n",
        "                    grad_W3[j, k] += 2 * (a3[j, 0] - label[j, 0]) * a3[j, 0] * (1 - a3[j, 0]) * a2[k, 0]\n",
        "            \n",
        "            # bias\n",
        "            for j in range(grad_b3.shape[0]):\n",
        "                    grad_b3[j, 0] += 2 * (a3[j, 0] - label[j, 0]) * a3[j, 0] * (1 - a3[j, 0])\n",
        "            \n",
        "            # ---- 3rd layer\n",
        "            # activation\n",
        "            delta_3 = np.zeros((16, 1))\n",
        "            for k in range(16):\n",
        "                for j in range(4):\n",
        "                    delta_3[k, 0] += 2 * (a3[j, 0] - label[j, 0]) * a3[j, 0] * (1 - a3[j, 0]) * W3[j, k]\n",
        "            \n",
        "            # weight\n",
        "            for k in range(grad_W2.shape[0]):\n",
        "                for m in range(grad_W2.shape[1]):\n",
        "                    grad_W2[k, m] += delta_3[k, 0] * a2[k,0] * (1 - a2[k, 0]) * a1[m, 0]\n",
        "            \n",
        "            # bias\n",
        "            for k in range(grad_b2.shape[0]):\n",
        "                    grad_b2[k, 0] += delta_3[k, 0] * a2[k, 0] * (1 - a2[k, 0])\n",
        "                    \n",
        "            # ---- 2nd layer\n",
        "            # activation\n",
        "            delta_2 = np.zeros((16, 1))\n",
        "            for m in range(16):\n",
        "                for k in range(16):\n",
        "                    delta_2[m, 0] += delta_3[k, 0] * a2[k, 0] * (1 - a2[k, 0]) * W2[k, m]\n",
        "            \n",
        "            # weight\n",
        "            for m in range(grad_W1.shape[0]):\n",
        "                for v in range(grad_W1.shape[1]):\n",
        "                    grad_W1[m, v] += delta_2[m, 0] * a1[m,0] * (1 - a1[m, 0]) * image[v, 0]\n",
        "            # bias\n",
        "            for m in range(grad_b1.shape[0]):\n",
        "                    grad_b1[m, 0] += delta_2[m, 0] * a1[m, 0] * (1 - a1[m, 0])\n",
        "        \n",
        "        W3 = W3 - (learning_rate * (grad_W3 / batch_size))\n",
        "        W2 = W2 - (learning_rate * (grad_W2 / batch_size))\n",
        "        W1 = W1 - (learning_rate * (grad_W1 / batch_size))\n",
        "        \n",
        "        b3 = b3 - (learning_rate * (grad_b3 / batch_size))\n",
        "        b2 = b2 - (learning_rate * (grad_b2 / batch_size))\n",
        "        b1 = b1 - (learning_rate * (grad_b1 / batch_size))\n",
        "    \n",
        "    # calculate cost average per epoch\n",
        "    cost = 0\n",
        "    for train_data in train_set[:number_of_train]:\n",
        "        a0 = train_data[0]\n",
        "        a1 = sigmoid(W1 @ a0 + b1)\n",
        "        a2 = sigmoid(W2 @ a1 + b2)\n",
        "        a3 = sigmoid(W3 @ a2 + b3)\n",
        "\n",
        "        for j in range(4):\n",
        "            cost += np.power((a3[j, 0] - train_data[1][j,  0]), 2)\n",
        "            \n",
        "    cost /= number_of_train\n",
        "    total_costs.append(cost) \n",
        "    \n",
        "# get the finish time\n",
        "finish = datetime.now()      "
      ]
    },
    {
      "cell_type": "code",
      "execution_count": null,
      "metadata": {
        "colab": {
          "base_uri": "https://localhost:8080/",
          "height": 300
        },
        "id": "3e6Fofohm9Wz",
        "outputId": "0b7f42fd-fa58-4ffb-8db8-f3d6a4c3f640"
      },
      "outputs": [
        {
          "name": "stdout",
          "output_type": "stream",
          "text": [
            "Accuracy:  34.5 %\n",
            "Duration time:  0:01:48.190711\n"
          ]
        },
        {
          "data": {
            "image/png": "[encoded data removed]",
            "text/plain": [
              "<Figure size 432x288 with 1 Axes>"
            ]
          },
          "metadata": {},
          "output_type": "display_data"
        }
      ],
      "source": [
        "# show \n",
        "epoch_size = [x for x in range(number_of_epochs)]\n",
        "plt.plot(epoch_size, total_costs)\n",
        "\n",
        "# find accurancy\n",
        "correct = 0\n",
        "for train_data in train_set[:number_of_train]:\n",
        "    a0 = train_data[0]\n",
        "    a1 = sigmoid(W1 @ a0 + b1)\n",
        "    a2 = sigmoid(W2 @ a1 + b2)\n",
        "    a3 = sigmoid(W3 @ a2 + b3)\n",
        "    \n",
        "    predicted = np.where(a3 == np.amax(a3))\n",
        "    real = np.where(train_data[1] == np.amax(train_data[1]))\n",
        "    \n",
        "    if predicted == real:\n",
        "        correct += 1\n",
        "        \n",
        "print('Accuracy: ', correct/number_of_train * 100,\"%\")\n",
        "print(\"Duration time: \", finish-start)"
      ]
    },
    {
      "cell_type": "markdown",
      "metadata": {
        "id": "kJI3DwFOsIzY"
      },
      "source": [
        "# **4) Vectorization**"
      ]
    },
    {
      "cell_type": "code",
      "execution_count": null,
      "metadata": {
        "id": "041z2btKsTRd"
      },
      "outputs": [],
      "source": [
        "# random the weight and bias of layers\n",
        "W1 = np.random.normal(size=(16,1024))\n",
        "W2 = np.random.normal(size=(16, 16))\n",
        "W3 = np.random.normal(size=(4, 16))\n",
        "b1 = np.zeros((16, 1))\n",
        "b2 = np.zeros((16, 1))\n",
        "b3 = np.zeros((4, 1))\n",
        "\n",
        "total_costs = []\n",
        "number_of_epochs = 60"
      ]
    },
    {
      "cell_type": "code",
      "execution_count": null,
      "metadata": {
        "id": "qCy3MFaQsZxT"
      },
      "outputs": [],
      "source": [
        "# get the start time\n",
        "start = datetime.now()\n",
        "\n",
        "for epoch in range(number_of_epochs):\n",
        "    batches = [train_set[x:x+batch_size] for x in range(0, number_of_train, batch_size)]\n",
        "    for batch in batches:\n",
        "        # allocate grad_W matrix for each layer\n",
        "        grad_W1 = np.zeros((16, 1024))\n",
        "        grad_W2 = np.zeros((16, 16))\n",
        "        grad_W3 = np.zeros((4, 16))\n",
        "        # allocate grad_b for each layer\n",
        "        grad_b1 = np.zeros((16, 1))\n",
        "        grad_b2 = np.zeros((16, 1))\n",
        "        grad_b3 = np.zeros((4, 1))\n",
        "        \n",
        "        for image, label in batch:\n",
        "            # compute the output (image is equal to a0)\n",
        "            a1 = sigmoid(W1 @ image + b1)\n",
        "            a2 = sigmoid(W2 @ a1 + b2)\n",
        "            a3 = sigmoid(W3 @ a2 + b3)\n",
        "            \n",
        "            # ---- Last layer\n",
        "            # weight\n",
        "            grad_W3 += (2 * (a3 - label) * a3 * (1 - a3)) @ np.transpose(a2)\n",
        "            \n",
        "            # bias\n",
        "            grad_b3 += 2 * (a3 - label) * a3 * (1 - a3)\n",
        "            \n",
        "            # ---- 3rd layer\n",
        "            # activation\n",
        "            delta_3 = np.zeros((16, 1))\n",
        "            delta_3 += np.transpose(W3) @ (2 *(a3 - label) * (a3 * (1 - a3)))\n",
        "            \n",
        "            # weight\n",
        "            grad_W2 += (a2 * (1 - a2) * delta_3) @ np.transpose(a1)\n",
        "            \n",
        "            # bias\n",
        "            grad_b2 += delta_3 * a2 * (1 - a2)\n",
        "                    \n",
        "            # ---- 2nd layer\n",
        "            # activation\n",
        "            delta_2 = np.zeros((16, 1))\n",
        "            delta_2 += np.transpose(W2) @ delta_3 * a2 * (1 - a2)\n",
        "            \n",
        "            # weight\n",
        "            grad_W1 += (delta_2 * a1 * (1 - a1)) @ np.transpose(image)\n",
        "                    \n",
        "            # bias\n",
        "            grad_b1 += delta_2 * a1 * (1 - a1)\n",
        "        \n",
        "        W3 = W3 - (learning_rate * (grad_W3 / batch_size))\n",
        "        W2 = W2 - (learning_rate * (grad_W2 / batch_size))\n",
        "        W1 = W1 - (learning_rate * (grad_W1 / batch_size))\n",
        "        \n",
        "        b3 = b3 - (learning_rate * (grad_b3 / batch_size))\n",
        "        b2 = b2 - (learning_rate * (grad_b2 / batch_size))\n",
        "        b1 = b1 - (learning_rate * (grad_b1 / batch_size))\n",
        "    \n",
        "      # calculate cost average per epoch\n",
        "    cost = 0\n",
        "    for train_data in train_set[:number_of_train]:\n",
        "        a0 = train_data[0]\n",
        "        a1 = sigmoid(W1 @ a0 + b1)\n",
        "        a2 = sigmoid(W2 @ a1 + b2)\n",
        "        a3 = sigmoid(W3 @ a2 + b3)\n",
        "\n",
        "        for j in range(4):\n",
        "            cost += np.power((a3[j, 0] - train_data[1][j,  0]), 2)\n",
        "            \n",
        "    cost /= number_of_train\n",
        "    total_costs.append(cost)\n",
        "\n",
        "# get the finish time\n",
        "finish = datetime.now()  "
      ]
    },
    {
      "cell_type": "code",
      "execution_count": null,
      "metadata": {
        "colab": {
          "base_uri": "https://localhost:8080/",
          "height": 300
        },
        "id": "ZrgC9gfksycR",
        "outputId": "4ab5d4a4-116e-469c-bcc0-979525f37a51"
      },
      "outputs": [
        {
          "name": "stdout",
          "output_type": "stream",
          "text": [
            "Accuracy:  56.49999999999999 %\n",
            "Duration time:  0:00:04.260463\n"
          ]
        },
        {
          "data": {
            "image/png": "[encoded data removed]",
            "text/plain": [
              "<Figure size 432x288 with 1 Axes>"
            ]
          },
          "metadata": {},
          "output_type": "display_data"
        }
      ],
      "source": [
        "epoch_size = [x for x in range(number_of_epochs)]\n",
        "plt.plot(epoch_size, total_costs)\n",
        "correct = 0\n",
        "for train_data in train_set[:number_of_train]:\n",
        "    a0 = train_data[0]\n",
        "    a1 = sigmoid(W1 @ a0 + b1)\n",
        "    a2 = sigmoid(W2 @ a1 + b2)\n",
        "    a3 = sigmoid(W3 @ a2 + b3)\n",
        "    \n",
        "    predicted = np.where(a3 == np.amax(a3))\n",
        "    real = np.where(train_data[1] == np.amax(train_data[1]))\n",
        "    \n",
        "    if predicted == real:\n",
        "        correct += 1\n",
        "        \n",
        "print('Accuracy: ', correct/number_of_train * 100,\"%\")\n",
        "print(\"Duration time: \", finish-start)\n"
      ]
    },
    {
      "cell_type": "markdown",
      "metadata": {
        "id": "P1gH9Y1tyNKp"
      },
      "source": [
        "# **5) Testing the model**"
      ]
    },
    {
      "cell_type": "code",
      "execution_count": 85,
      "metadata": {
        "id": "XzeOCaZ5yaba"
      },
      "outputs": [],
      "source": [
        "# random the weight and bias of layers\n",
        "W1 = np.random.normal(size=(16,1024))\n",
        "W2 = np.random.normal(size=(16, 16))\n",
        "W3 = np.random.normal(size=(4, 16))\n",
        "b1 = np.zeros((16, 1))\n",
        "b2 = np.zeros((16, 1))\n",
        "b3 = np.zeros((4, 1))\n",
        "\n",
        "total_costs = []\n",
        "batch_size = 16\n",
        "learning_rate = 0.3\n",
        "number_of_epochs = 60"
      ]
    },
    {
      "cell_type": "code",
      "execution_count": 86,
      "metadata": {
        "id": "mr5k3EtYyebn"
      },
      "outputs": [],
      "source": [
        "# get the start time\n",
        "start = datetime.now()\n",
        "\n",
        "for epoch in range(number_of_epochs):\n",
        "    np.random.shuffle(train_set)\n",
        "    batches = [train_set[x:x+batch_size] for x in range(0, 8000, batch_size)]\n",
        "    for batch in batches:\n",
        "        # allocate grad_W matrix for each layer\n",
        "        grad_W1 = np.zeros((16, 1024))\n",
        "        grad_W2 = np.zeros((16, 16))\n",
        "        grad_W3 = np.zeros((4, 16))\n",
        "        # allocate grad_b for each layer\n",
        "        grad_b1 = np.zeros((16, 1))\n",
        "        grad_b2 = np.zeros((16, 1))\n",
        "        grad_b3 = np.zeros((4, 1))\n",
        "        \n",
        "        for image, label in batch:\n",
        "            # compute the output (image is equal to a0)\n",
        "            a1 = sigmoid(W1 @ image + b1)\n",
        "            a2 = sigmoid(W2 @ a1 + b2)\n",
        "            a3 = sigmoid(W3 @ a2 + b3)\n",
        "            \n",
        "            # ---- Last layer\n",
        "            # weight\n",
        "            grad_W3 += (2 * (a3 - label) * a3 * (1 - a3)) @ np.transpose(a2)\n",
        "            \n",
        "            # bias\n",
        "            grad_b3 += 2 * (a3 - label) * a3 * (1 - a3)\n",
        "            \n",
        "            # ---- 3rd layer\n",
        "            # activation\n",
        "            delta_3 = np.zeros((16, 1))\n",
        "            delta_3 += np.transpose(W3) @ (2 *(a3 - label) * (a3 * (1 - a3)))\n",
        "            \n",
        "            # weight\n",
        "            grad_W2 += (a2 * (1 - a2) * delta_3) @ np.transpose(a1)\n",
        "            \n",
        "            # bias\n",
        "            grad_b2 += delta_3 * a2 * (1 - a2)\n",
        "                    \n",
        "            # ---- 2nd layer\n",
        "            # activation\n",
        "            delta_2 = np.zeros((16, 1))\n",
        "            delta_2 += np.transpose(W2) @ delta_3 * a2 * (1 - a2)\n",
        "            \n",
        "            # weight\n",
        "            grad_W1 += (delta_2 * a1 * (1 - a1)) @ np.transpose(image)\n",
        "                    \n",
        "            # bias\n",
        "            grad_b1 += delta_2 * a1 * (1 - a1)\n",
        "        \n",
        "        W3 = W3 - (learning_rate * (grad_W3 / batch_size))\n",
        "        W2 = W2 - (learning_rate * (grad_W2 / batch_size))\n",
        "        W1 = W1 - (learning_rate * (grad_W1 / batch_size))\n",
        "        \n",
        "        b3 = b3 - (learning_rate * (grad_b3 / batch_size))\n",
        "        b2 = b2 - (learning_rate * (grad_b2 / batch_size))\n",
        "        b1 = b1 - (learning_rate * (grad_b1 / batch_size))\n",
        "\n",
        "    # calculate cost average per epoch\n",
        "    cost = 0\n",
        "    for train_data in train_set[0:8000]:\n",
        "        a0 = train_data[0]\n",
        "        a1 = sigmoid(W1 @ a0 + b1)\n",
        "        a2 = sigmoid(W2 @ a1 + b2)\n",
        "        a3 = sigmoid(W3 @ a2 + b3)\n",
        "\n",
        "        for j in range(4):\n",
        "            cost += np.power((a3[j, 0] - train_data[1][j,  0]), 2)\n",
        "            \n",
        "    cost /= 8000\n",
        "    total_costs.append(cost)   \n",
        "     \n",
        "# get the finish time\n",
        "finish = datetime.now()  "
      ]
    },
    {
      "cell_type": "code",
      "execution_count": 87,
      "metadata": {
        "colab": {
          "base_uri": "https://localhost:8080/",
          "height": 300
        },
        "id": "VBDaXWXZy0gt",
        "outputId": "14db7c91-6668-4f59-b5a8-ae6138eff95b"
      },
      "outputs": [
        {
          "output_type": "stream",
          "name": "stdout",
          "text": [
            "Accuracy For Train Data: 53.6875\n",
            "Duration time:  0:02:54.113695\n"
          ]
        },
        {
          "output_type": "display_data",
          "data": {
            "text/plain": [
              "<Figure size 432x288 with 1 Axes>"
            ],
            "image/png": "[encoded data removed]"
          },
          "metadata": {
            "needs_background": "light"
          }
        }
      ],
      "source": [
        "epoch_size = [x for x in range(number_of_epochs)]\n",
        "plt.plot(epoch_size, total_costs)\n",
        "correct = 0\n",
        "for test_data in train_set[0:8000]:\n",
        "    a0 = test_data[0]\n",
        "    a1 = sigmoid(W1 @ a0 + b1)\n",
        "    a2 = sigmoid(W2 @ a1 + b2)\n",
        "    a3 = sigmoid(W3 @ a2 + b3)\n",
        "    \n",
        "    predicted = np.where(a3 == np.amax(a3))\n",
        "    real = np.where(test_data[1] == np.amax(test_data[1]))\n",
        "    \n",
        "    if predicted == real:\n",
        "        correct += 1\n",
        "        \n",
        "print(f\"Accuracy For Train Data: {correct/8000 *100 }\")\n",
        "print(\"Duration time: \", finish-start)"
      ]
    },
    {
      "cell_type": "code",
      "execution_count": 88,
      "metadata": {
        "colab": {
          "base_uri": "https://localhost:8080/"
        },
        "id": "gjAkRnMX5o6k",
        "outputId": "3d859a63-55ca-4e3b-dd7d-e3e6443fc42f"
      },
      "outputs": [
        {
          "output_type": "stream",
          "name": "stdout",
          "text": [
            "Accuracy For Test Data: 51.475\n"
          ]
        }
      ],
      "source": [
        "correct = 0\n",
        "for test_data in test_set:\n",
        "    a0 = test_data[0]\n",
        "    a1 = sigmoid(W1 @ a0 + b1)\n",
        "    a2 = sigmoid(W2 @ a1 + b2)\n",
        "    a3 = sigmoid(W3 @ a2 + b3)\n",
        "    \n",
        "    predicted = np.where(a3 == np.amax(a3))\n",
        "    real = np.where(test_data[1] == np.amax(test_data[1]))\n",
        "    \n",
        "    if predicted == real:\n",
        "        correct += 1\n",
        "print(f\"Accuracy For Test Data: {correct/4000 *100 }\")"
      ]
    }
  ],
  "metadata": {
    "colab": {
      "collapsed_sections": [],
      "name": "CI-P1.ipynb",
      "provenance": []
    },
    "kernelspec": {
      "display_name": "Python 3",
      "name": "python3"
    },
    "language_info": {
      "name": "python"
    }
  },
  "nbformat": 4,
  "nbformat_minor": 0
}